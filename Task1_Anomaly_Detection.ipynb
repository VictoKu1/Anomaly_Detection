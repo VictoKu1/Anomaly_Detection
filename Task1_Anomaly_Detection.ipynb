{
 "cells": [
  {
   "cell_type": "markdown",
   "metadata": {
    "id": "view-in-github",
    "colab_type": "text"
   },
   "source": [
    "<a href=\"https://colab.research.google.com/github/VictoKu1/Anomaly_Detection/blob/master/Task1_Anomaly_Detection.ipynb\" target=\"_parent\"><img src=\"https://colab.research.google.com/assets/colab-badge.svg\" alt=\"Open In Colab\"/></a>"
   ]
  },
  {
   "cell_type": "markdown",
   "source": [
    "# **Anomaly Detection**\n",
    "\n",
    "---\n",
    "\n",
    "**Moriya Bitton || Victor Kushnir**"
   ],
   "metadata": {
    "id": "6pAuL8pAQPUJ"
   }
  },
  {
   "cell_type": "code",
   "execution_count": 8,
   "metadata": {
    "ExecuteTime": {
     "end_time": "2021-11-15T20:11:06.746000Z",
     "start_time": "2021-11-15T20:11:03.013384Z"
    },
    "id": "PCBQ6yRyC1ln"
   },
   "outputs": [],
   "source": [
    "# Imports\n",
    "\n",
    "\n",
    "import numpy as np\n",
    "import pandas as pd\n",
    "import seaborn as sns\n",
    "import matplotlib.pyplot as plt\n"
   ]
  },
  {
   "cell_type": "markdown",
   "metadata": {
    "id": "QNka-pbEC1le"
   },
   "source": [
    "## **Part 1 - Data** \n",
    "\n",
    "---\n",
    "\n",
    "\n",
    "\n",
    "---\n",
    "\n"
   ]
  },
  {
   "cell_type": "code",
   "source": [
    "from google.colab import files\n",
    "\n",
    "data_to_load = files.upload()\n",
    "target_to_load = files.upload()"
   ],
   "metadata": {
    "colab": {
     "base_uri": "https://localhost:8080/",
     "height": 129
    },
    "id": "MC97gjoPbCOm",
    "outputId": "f97fe28c-8983-40af-ef07-96203ee94ad2"
   },
   "execution_count": 11,
   "outputs": [
    {
     "ename": "ModuleNotFoundError",
     "evalue": "No module named 'google'",
     "output_type": "error",
     "traceback": [
      "\u001B[1;31m---------------------------------------------------------------------------\u001B[0m",
      "\u001B[1;31mModuleNotFoundError\u001B[0m                       Traceback (most recent call last)",
      "Cell \u001B[1;32mIn[11], line 1\u001B[0m\n\u001B[1;32m----> 1\u001B[0m \u001B[38;5;28;01mfrom\u001B[39;00m \u001B[38;5;21;01mgoogle\u001B[39;00m\u001B[38;5;21;01m.\u001B[39;00m\u001B[38;5;21;01mcolab\u001B[39;00m \u001B[38;5;28;01mimport\u001B[39;00m files\n\u001B[0;32m      3\u001B[0m data_to_load \u001B[38;5;241m=\u001B[39m files\u001B[38;5;241m.\u001B[39mupload()\n\u001B[0;32m      4\u001B[0m target_to_load \u001B[38;5;241m=\u001B[39m files\u001B[38;5;241m.\u001B[39mupload()\n",
      "\u001B[1;31mModuleNotFoundError\u001B[0m: No module named 'google'"
     ]
    }
   ]
  },
  {
   "cell_type": "code",
   "source": [
    "# Reading the data and fixing columns names\n",
    "\n",
    "import io\n",
    "\n",
    "df = pd.read_csv(io.BytesIO(data_to_load['conn_attack.csv']), \n",
    "                 names=[\"record_id\", \"duration_\", \"src_bytes\", \"dst_bytes\"], \n",
    "                 index_col='record_id')\n",
    "columns = df.columns\n",
    "\n",
    "target = pd.read_csv(io.BytesIO(target_to_load['conn_attack_anomaly_labels.csv']), \n",
    "                 names=[\"id\", \"label\"], \n",
    "                 index_col='id')"
   ],
   "metadata": {
    "id": "s5yNbvFFbiCD"
   },
   "execution_count": null,
   "outputs": []
  },
  {
   "cell_type": "code",
   "source": [
    "df.head()"
   ],
   "metadata": {
    "colab": {
     "base_uri": "https://localhost:8080/",
     "height": 238
    },
    "id": "ZwmiRgb1ZaGq",
    "outputId": "39debbd7-0547-48dc-93d5-1d2b31394190"
   },
   "execution_count": null,
   "outputs": []
  },
  {
   "cell_type": "code",
   "source": [
    "target.head()"
   ],
   "metadata": {
    "colab": {
     "base_uri": "https://localhost:8080/",
     "height": 238
    },
    "id": "if3NHN02ce-u",
    "outputId": "45a70e3f-841b-44df-d4a2-b1241f2db30f"
   },
   "execution_count": null,
   "outputs": []
  },
  {
   "cell_type": "markdown",
   "source": [
    "##### **Shape**"
   ],
   "metadata": {
    "id": "Rfwpcw54U8H8"
   }
  },
  {
   "cell_type": "code",
   "source": [
    "df.shape"
   ],
   "metadata": {
    "colab": {
     "base_uri": "https://localhost:8080/"
    },
    "id": "88aGUQ9zU7kw",
    "outputId": "d569bb4f-cf5a-4012-e66f-50bbb25bab92"
   },
   "execution_count": null,
   "outputs": []
  },
  {
   "cell_type": "code",
   "source": [
    "columns.shape"
   ],
   "metadata": {
    "colab": {
     "base_uri": "https://localhost:8080/"
    },
    "id": "jnsBehxEVCVS",
    "outputId": "1dfee5ca-8fa5-4722-abc7-f984ae853a81"
   },
   "execution_count": null,
   "outputs": []
  },
  {
   "cell_type": "code",
   "source": [
    "target.shape"
   ],
   "metadata": {
    "colab": {
     "base_uri": "https://localhost:8080/"
    },
    "id": "jShkG00PVHZx",
    "outputId": "86044124-6440-4f92-f030-04e61943ebe1"
   },
   "execution_count": null,
   "outputs": []
  },
  {
   "cell_type": "markdown",
   "metadata": {
    "ExecuteTime": {
     "end_time": "2021-11-07T13:35:40.662434Z",
     "start_time": "2021-11-07T13:33:17.893Z"
    },
    "id": "9r_v7W9JC1ls"
   },
   "source": [
    "##### **Analyzing the data frame** "
   ]
  },
  {
   "cell_type": "code",
   "execution_count": null,
   "metadata": {
    "ExecuteTime": {
     "end_time": "2021-11-15T20:11:07.014591Z",
     "start_time": "2021-11-15T20:11:06.985435Z"
    },
    "colab": {
     "base_uri": "https://localhost:8080/"
    },
    "id": "2NYiVIu9C1lt",
    "outputId": "9e6479d1-80d3-41e1-8470-5e5dbc8df105"
   },
   "outputs": [],
   "source": [
    "df.info()"
   ]
  },
  {
   "cell_type": "code",
   "execution_count": null,
   "metadata": {
    "ExecuteTime": {
     "end_time": "2021-11-15T20:11:07.108445Z",
     "start_time": "2021-11-15T20:11:07.033591Z"
    },
    "colab": {
     "base_uri": "https://localhost:8080/",
     "height": 300
    },
    "id": "DfZP9MxVC1lv",
    "outputId": "40d9db25-86bd-4a91-8ef8-5df088b59c29"
   },
   "outputs": [],
   "source": [
    "df.describe()"
   ]
  },
  {
   "cell_type": "markdown",
   "metadata": {
    "id": "WT9nmrncC1l1"
   },
   "source": [
    "##### **Data visualization**"
   ]
  },
  {
   "cell_type": "code",
   "source": [
    "fig, axes = plt.subplots(ncols=3, figsize=(18, 6))\n",
    "\n",
    "# Data distributed only on the \"duration_\" feature \n",
    "sns.scatterplot(data=df.duration_, ax=axes[0]).set(title=\"duration_\")\n",
    "\n",
    "# Data distributed only on the \"src_bytes\" feature \n",
    "sns.scatterplot(data=df.src_bytes, ax=axes[1]).set(title=\"src_bytes\")\n",
    "\n",
    "# Data distributed only on the \"dst_bytes\" feature \n",
    "sns.scatterplot(data=df.dst_bytes, ax=axes[2]).set(title=\"dst_bytes\")"
   ],
   "metadata": {
    "colab": {
     "base_uri": "https://localhost:8080/",
     "height": 328
    },
    "id": "P6SF5yxx9lmD",
    "outputId": "2fe45be3-7df1-401b-8a04-43927a88be27"
   },
   "execution_count": null,
   "outputs": []
  },
  {
   "cell_type": "markdown",
   "source": [
    "## **Part 2 - Possible labels to compare**\n",
    "\n",
    "---\n",
    "\n",
    "\n",
    "\n",
    "---\n",
    "\n"
   ],
   "metadata": {
    "id": "XcT1rXZPdSb3"
   }
  },
  {
   "cell_type": "markdown",
   "source": [
    "##### **Assumption**\n",
    "\n",
    "Essentially, we want to find ways to locate outliers without relying on any model to find the most appropriate model.\n",
    "\n",
    "\n",
    "I found that the clustering algorithm will probably work because the data is mostly clustered in the center and only a small amount is scattered far away from it. As a result, isolation forests won't work, but DB SCAN will."
   ],
   "metadata": {
    "id": "jSeGdnj0fcAH"
   }
  },
  {
   "cell_type": "code",
   "source": [
    "q = df.duration_.quantile(0.99)\n",
    "q_low_1 = df.duration_.quantile(0.01)\n",
    "q_hi_1 = df.duration_.quantile(0.99)\n",
    "\n",
    "q = df.src_bytes.quantile(0.99)\n",
    "q_low_2 = df.src_bytes.quantile(0.01)\n",
    "q_hi_2  = df.src_bytes.quantile(0.99)\n",
    "\n",
    "q = df.duration_.quantile(0.99)\n",
    "q_low_3 = df.dst_bytes.quantile(0.01)\n",
    "q_hi_3  = df.dst_bytes.quantile(0.99)\n",
    "\n",
    "# creating the guess\n",
    "guess = np.zeros_like(df.src_bytes)\n",
    "\n",
    "guess[(df.duration_>q_hi_1) | (df.duration_<q_low_1) | \n",
    "      (df.src_bytes>q_hi_2) | (df.src_bytes<q_low_2) | \n",
    "      (df.dst_bytes>q_hi_3) | (df.dst_bytes<q_low_3)] = 1 "
   ],
   "metadata": {
    "id": "_y4_ZsCFNsoc"
   },
   "execution_count": null,
   "outputs": []
  },
  {
   "cell_type": "markdown",
   "metadata": {
    "id": "_3RlaaKOC1l6"
   },
   "source": [
    "## **Part 3 - Models**\n",
    "\n",
    "\n",
    "---\n",
    "\n",
    "\n",
    "\n",
    "---\n",
    "\n",
    "\n"
   ]
  },
  {
   "cell_type": "code",
   "execution_count": null,
   "metadata": {
    "ExecuteTime": {
     "end_time": "2021-11-15T20:11:13.738096Z",
     "start_time": "2021-11-15T20:11:13.550644Z"
    },
    "id": "gIRvQVWpC1l6"
   },
   "outputs": [],
   "source": [
    "from sklearn.metrics import classification_report, confusion_matrix, f1_score"
   ]
  },
  {
   "cell_type": "code",
   "execution_count": null,
   "metadata": {
    "ExecuteTime": {
     "end_time": "2021-11-15T20:11:07.156204Z",
     "start_time": "2021-11-15T20:11:07.126432Z"
    },
    "id": "DnyPiOqfC1lx"
   },
   "outputs": [],
   "source": [
    "# Finding important features\n",
    "\n",
    "df1 = df.drop(columns=columns[0])\n",
    "df2 = df.drop(columns=columns[1])\n",
    "df3 = df.drop(columns=columns[2])\n",
    "\n",
    "df4 = df.drop(columns=[columns[0], columns[1]])\n",
    "df5 = df.drop(columns=[columns[0], columns[2]])\n",
    "df6 = df.drop(columns=[columns[1], columns[2]])"
   ]
  },
  {
   "cell_type": "markdown",
   "metadata": {
    "id": "hbAk5VVQC1l7"
   },
   "source": [
    "### **Part 3.1 - Isolation Forest**\n"
   ]
  },
  {
   "cell_type": "code",
   "execution_count": null,
   "metadata": {
    "ExecuteTime": {
     "end_time": "2021-11-15T20:11:14.497939Z",
     "start_time": "2021-11-15T20:11:13.800851Z"
    },
    "id": "NRrQrI1OC1l8"
   },
   "outputs": [],
   "source": [
    "from sklearn.ensemble import IsolationForest\n",
    "\n",
    "# Find if Isolation Forest might have good prediction\n",
    "def run_if_models(max_f_, df):\n",
    "  isf_prediction = []\n",
    "  for i in range(100, 1000, 100):\n",
    "      isf = IsolationForest(n_estimators=i, max_features=max_f_, n_jobs=-1)\n",
    "      isf_labels = pd.Series(isf.fit_predict(df))\n",
    "      isf_labels = isf_labels.map({1: 0, -1: 1})\n",
    "      isf_prediction.append([i, f1_score(y_true=guess, y_pred=isf_labels)])\n",
    "\n",
    "  sns.lineplot(x=np.array(isf_prediction)[:, 0], y=np.array(isf_prediction)[:, 1])  "
   ]
  },
  {
   "cell_type": "code",
   "execution_count": null,
   "metadata": {
    "ExecuteTime": {
     "end_time": "2021-11-15T20:17:15.127041Z",
     "start_time": "2021-11-15T20:11:14.564081Z"
    },
    "colab": {
     "base_uri": "https://localhost:8080/",
     "height": 265
    },
    "id": "unQMZXjIC1l8",
    "outputId": "2a554a6e-6375-4e1d-f6e8-8960cbac4691"
   },
   "outputs": [],
   "source": [
    "# Running the model using all features\n",
    "\n",
    "run_if_models(3, df)"
   ]
  },
  {
   "cell_type": "code",
   "execution_count": null,
   "metadata": {
    "ExecuteTime": {
     "end_time": "2021-11-15T20:22:53.500362Z",
     "start_time": "2021-11-15T20:17:15.377535Z"
    },
    "colab": {
     "base_uri": "https://localhost:8080/",
     "height": 265
    },
    "id": "zXS4VFBqC1l9",
    "outputId": "989520b1-32fd-4c3d-bb00-1dc12439f1c9"
   },
   "outputs": [],
   "source": [
    "# Running the model without \"duration\"\n",
    "\n",
    "run_if_models(2, df1)"
   ]
  },
  {
   "cell_type": "code",
   "execution_count": null,
   "metadata": {
    "ExecuteTime": {
     "end_time": "2021-11-15T20:28:40.546538Z",
     "start_time": "2021-11-15T20:22:53.971365Z"
    },
    "colab": {
     "base_uri": "https://localhost:8080/",
     "height": 265
    },
    "id": "7uL6I62OC1l-",
    "outputId": "bf7de31b-1411-4937-bcff-0891236d6f3f"
   },
   "outputs": [],
   "source": [
    "# Running the model without \"src_bytes\"\n",
    "\n",
    "run_if_models(2, df2)"
   ]
  },
  {
   "cell_type": "code",
   "execution_count": null,
   "metadata": {
    "ExecuteTime": {
     "end_time": "2021-11-15T20:34:00.910278Z",
     "start_time": "2021-11-15T20:28:40.943539Z"
    },
    "colab": {
     "base_uri": "https://localhost:8080/",
     "height": 265
    },
    "id": "lC9FV-STC1l_",
    "outputId": "320086b9-fb68-441c-8733-12bd0491d2bf"
   },
   "outputs": [],
   "source": [
    "# Running the model without \"dst_bytes\"\n",
    "\n",
    "run_if_models(2, df3)"
   ]
  },
  {
   "cell_type": "code",
   "execution_count": null,
   "metadata": {
    "ExecuteTime": {
     "end_time": "2021-11-15T20:39:29.819434Z",
     "start_time": "2021-11-15T20:34:01.193756Z"
    },
    "id": "PkJjnwbWC1mA",
    "colab": {
     "base_uri": "https://localhost:8080/",
     "height": 265
    },
    "outputId": "197d1dc8-5b46-4d46-e4c6-57e9276a68c2"
   },
   "outputs": [],
   "source": [
    "# Running the model without \"duration\" , \"src_bytes\"\n",
    "\n",
    "run_if_models(1, df4)"
   ]
  },
  {
   "cell_type": "code",
   "execution_count": null,
   "metadata": {
    "ExecuteTime": {
     "end_time": "2021-11-15T20:44:42.841757Z",
     "start_time": "2021-11-15T20:39:30.044343Z"
    },
    "id": "fAgnklISC1mB",
    "colab": {
     "base_uri": "https://localhost:8080/",
     "height": 269
    },
    "outputId": "cd45590e-f6e0-43f2-e5f1-93b880d0616a"
   },
   "outputs": [],
   "source": [
    "# Running the model without \"duration\" , \"dst_bytes\"\n",
    "\n",
    "run_if_models(1, df5)"
   ]
  },
  {
   "cell_type": "code",
   "execution_count": null,
   "metadata": {
    "ExecuteTime": {
     "end_time": "2021-11-15T20:47:26.010408Z",
     "start_time": "2021-11-15T20:44:43.208063Z"
    },
    "id": "93SN4SLkC1mD",
    "colab": {
     "base_uri": "https://localhost:8080/",
     "height": 265
    },
    "outputId": "ec0f66cd-4e4b-4c08-a782-261dfddec61b"
   },
   "outputs": [],
   "source": [
    "# Running the model without \"src_bytes\" , \"dst_bytes\"\n",
    "\n",
    "run_if_models(1, df6)"
   ]
  },
  {
   "cell_type": "markdown",
   "metadata": {
    "id": "PCI7dCHaC1mE"
   },
   "source": [
    "### **Part 3.2 - DBSCAN**"
   ]
  },
  {
   "cell_type": "code",
   "execution_count": null,
   "metadata": {
    "ExecuteTime": {
     "end_time": "2021-11-15T20:47:26.513369Z",
     "start_time": "2021-11-15T20:47:26.421876Z"
    },
    "id": "Hq6J2h6iC1mF"
   },
   "outputs": [],
   "source": [
    "from sklearn.cluster import DBSCAN\n",
    "\n",
    "# Mapping function to fit the correct labels\n",
    "def _map(x):\n",
    "    if x == -1:\n",
    "        return 0\n",
    "    return 1\n",
    "\n",
    "# find if DBSCAN might have good prediction.\n",
    "def run_dbs_models(df):\n",
    "  dbs_prediction = []\n",
    "  for i in range(50, 300, 50):\n",
    "      dbs = DBSCAN(min_samples=i)\n",
    "      dbs_labels = pd.Series(dbs.fit_predict(df))\n",
    "      dbs_labels = dbs_labels.apply(lambda x: _map(x))\n",
    "      dbs_prediction.append([i, f1_score(y_true=guess, y_pred=dbs_labels)])\n",
    "\n",
    "  sns.lineplot(x=np.array(dbs_prediction)[:, 0], y=np.array(dbs_prediction)[:, 1])"
   ]
  },
  {
   "cell_type": "code",
   "execution_count": null,
   "metadata": {
    "ExecuteTime": {
     "end_time": "2021-11-15T20:47:48.191259Z",
     "start_time": "2021-11-15T20:47:26.625503Z"
    },
    "id": "uDT2iYZPC1mG",
    "colab": {
     "base_uri": "https://localhost:8080/",
     "height": 265
    },
    "outputId": "99ac4f18-c8b2-4603-d2d8-361431e7fd0d"
   },
   "outputs": [],
   "source": [
    "# Running the model using all features\n",
    "\n",
    "run_dbs_models(df)"
   ]
  },
  {
   "cell_type": "code",
   "execution_count": null,
   "metadata": {
    "ExecuteTime": {
     "end_time": "2021-11-15T20:47:58.704984Z",
     "start_time": "2021-11-15T20:47:48.456311Z"
    },
    "id": "G5jgJ16CC1mG",
    "colab": {
     "base_uri": "https://localhost:8080/",
     "height": 268
    },
    "outputId": "4c5968ac-aebb-42a9-a4bb-317e1a29961e"
   },
   "outputs": [],
   "source": [
    "# Running the model without \"duration\"\n",
    "\n",
    "run_dbs_models(df1)"
   ]
  },
  {
   "cell_type": "code",
   "execution_count": null,
   "metadata": {
    "ExecuteTime": {
     "end_time": "2021-11-15T20:49:29.249262Z",
     "start_time": "2021-11-15T20:47:58.994988Z"
    },
    "id": "nghRLDOtC1mH",
    "colab": {
     "base_uri": "https://localhost:8080/",
     "height": 265
    },
    "outputId": "af588abe-bc49-45b9-e794-4ccd18c92db5"
   },
   "outputs": [],
   "source": [
    "# Running the model without \"src_bytes\"\n",
    "\n",
    "run_dbs_models(df2)"
   ]
  },
  {
   "cell_type": "code",
   "execution_count": null,
   "metadata": {
    "ExecuteTime": {
     "end_time": "2021-11-15T20:52:06.322902Z",
     "start_time": "2021-11-15T20:49:29.582263Z"
    },
    "id": "gcduWxgKC1mI",
    "colab": {
     "base_uri": "https://localhost:8080/",
     "height": 265
    },
    "outputId": "b2c91ff1-e153-46cf-c9d0-3c17af8df8db"
   },
   "outputs": [],
   "source": [
    "# Running the model without \"dst_bytes\"\n",
    "\n",
    "run_dbs_models(df3)"
   ]
  },
  {
   "cell_type": "code",
   "execution_count": null,
   "metadata": {
    "ExecuteTime": {
     "end_time": "2021-11-15T20:52:17.979071Z",
     "start_time": "2021-11-15T20:52:07.142597Z"
    },
    "id": "HedqsEQSC1mJ",
    "colab": {
     "base_uri": "https://localhost:8080/",
     "height": 265
    },
    "outputId": "d7107b70-f32b-45d4-aaef-6fcdf73f163a"
   },
   "outputs": [],
   "source": [
    "# Running the model without \"duration\" , \"src_bytes\"\n",
    "\n",
    "run_dbs_models(df4)"
   ]
  },
  {
   "cell_type": "code",
   "execution_count": null,
   "metadata": {
    "ExecuteTime": {
     "end_time": "2021-11-15T20:52:29.632587Z",
     "start_time": "2021-11-15T20:52:18.296070Z"
    },
    "id": "H2CCedhVC1mK",
    "colab": {
     "base_uri": "https://localhost:8080/",
     "height": 265
    },
    "outputId": "b2c31cbc-824e-4328-e68b-a81433bc537a"
   },
   "outputs": [],
   "source": [
    "# Running the model without \"duration\" , \"dst_bytes\"\n",
    "\n",
    "run_dbs_models(df5)"
   ]
  },
  {
   "cell_type": "code",
   "execution_count": null,
   "metadata": {
    "ExecuteTime": {
     "end_time": "2021-11-15T20:52:29.930744Z",
     "start_time": "2021-11-15T20:52:29.917738Z"
    },
    "id": "OIgazTqsC1mL"
   },
   "outputs": [],
   "source": [
    "# Running the model without \"src_bytes\" , \"dst_bytes\"\n",
    "\n",
    "# run_dbs_models(df6) --> Memory error!"
   ]
  },
  {
   "cell_type": "markdown",
   "source": [
    "## **Part 4 - Model evaluation and comparison**\n",
    "\n",
    "---\n",
    "\n"
   ],
   "metadata": {
    "id": "3YXIJmhJt8NI"
   }
  },
  {
   "cell_type": "code",
   "source": [
    "from sklearn.metrics import plot_confusion_matrix"
   ],
   "metadata": {
    "id": "qRghLQ974B5V"
   },
   "execution_count": null,
   "outputs": []
  },
  {
   "cell_type": "code",
   "execution_count": null,
   "metadata": {
    "ExecuteTime": {
     "end_time": "2021-11-15T20:52:32.604453Z",
     "start_time": "2021-11-15T20:52:29.994737Z"
    },
    "id": "rnFPRpi2C1mM"
   },
   "outputs": [],
   "source": [
    "DBS = DBSCAN(min_samples=150, n_jobs=-1)\n",
    "DBS_labels = pd.Series(DBS.fit_predict(df)).apply(lambda x: _map(x))"
   ]
  },
  {
   "cell_type": "markdown",
   "metadata": {
    "id": "46NLdVaFC1mM"
   },
   "source": [
    "##### **Evaluation:** y_guess & y_DB_Scan"
   ]
  },
  {
   "cell_type": "code",
   "source": [
    "confusion_matrix(y_true=guess, y_pred=DBS_labels)"
   ],
   "metadata": {
    "colab": {
     "base_uri": "https://localhost:8080/"
    },
    "id": "Wf1yP_N7mE7-",
    "outputId": "8ae7dcfa-ddba-4cf5-bc8e-00fd9fdd6530"
   },
   "execution_count": null,
   "outputs": []
  },
  {
   "cell_type": "code",
   "execution_count": null,
   "metadata": {
    "ExecuteTime": {
     "end_time": "2021-11-15T20:52:33.361990Z",
     "start_time": "2021-11-15T20:52:33.044933Z"
    },
    "colab": {
     "base_uri": "https://localhost:8080/"
    },
    "id": "ippPWhgBC1mN",
    "outputId": "5fd6736e-815b-4212-d81c-dfe266fdb26d"
   },
   "outputs": [],
   "source": [
    "print(classification_report(y_true=guess, y_pred=DBS_labels))"
   ]
  },
  {
   "cell_type": "markdown",
   "metadata": {
    "id": "JQisTiTkC1mO"
   },
   "source": [
    "##### **Evaluation:** y_guess & y_true"
   ]
  },
  {
   "cell_type": "code",
   "source": [
    "confusion_matrix(y_true=guess, y_pred=target.label)"
   ],
   "metadata": {
    "colab": {
     "base_uri": "https://localhost:8080/"
    },
    "id": "thkc2HpsmJqv",
    "outputId": "eeb75dd0-3a8d-4960-ec6a-3f5bf44a2843"
   },
   "execution_count": null,
   "outputs": []
  },
  {
   "cell_type": "code",
   "execution_count": null,
   "metadata": {
    "ExecuteTime": {
     "end_time": "2021-11-15T20:52:33.997343Z",
     "start_time": "2021-11-15T20:52:33.807293Z"
    },
    "colab": {
     "base_uri": "https://localhost:8080/"
    },
    "id": "fhSoPwUWC1mO",
    "outputId": "726bbca5-63cf-4e20-f31d-a406f09bbce1"
   },
   "outputs": [],
   "source": [
    "print(classification_report(y_true=guess, y_pred=target.label))"
   ]
  },
  {
   "cell_type": "markdown",
   "metadata": {
    "id": "NyVk-V2cC1mP"
   },
   "source": [
    "##### **Evaluation:** y_DB_Scan & y_true"
   ]
  },
  {
   "cell_type": "code",
   "execution_count": null,
   "metadata": {
    "ExecuteTime": {
     "end_time": "2021-11-15T20:52:34.662508Z",
     "start_time": "2021-11-15T20:52:34.491254Z"
    },
    "colab": {
     "base_uri": "https://localhost:8080/"
    },
    "id": "YbGEmaDIC1mQ",
    "outputId": "01b21808-8de4-4fb9-840c-51e95d049ff7"
   },
   "outputs": [],
   "source": [
    "confusion_matrix(y_true=DBS_labels, y_pred=target.label)"
   ]
  },
  {
   "cell_type": "code",
   "execution_count": null,
   "metadata": {
    "ExecuteTime": {
     "end_time": "2021-11-15T20:52:35.059455Z",
     "start_time": "2021-11-15T20:52:34.726451Z"
    },
    "colab": {
     "base_uri": "https://localhost:8080/"
    },
    "id": "tNphBCJvC1mQ",
    "outputId": "c5780c1c-d0f9-4383-b4c4-96b4947b257f"
   },
   "outputs": [],
   "source": [
    "print(classification_report(y_true=DBS_labels, y_pred=target.label))"
   ]
  },
  {
   "cell_type": "markdown",
   "metadata": {
    "id": "SpbZUZOuC1mV"
   },
   "source": [
    "## **Part 5 - Export the output**\n",
    "\n",
    "---\n"
   ]
  },
  {
   "cell_type": "code",
   "execution_count": null,
   "metadata": {
    "ExecuteTime": {
     "end_time": "2021-11-15T20:57:58.795856Z",
     "start_time": "2021-11-15T20:57:58.720732Z"
    },
    "id": "waLGMwfdC1mW"
   },
   "outputs": [],
   "source": [
    "DBS_labels = DBS_labels.set_axis(target.index)\n",
    "df[\"is_anomaly\"] = DBS_labels\n",
    "\n",
    "output = df.drop(columns=[\"duration_\", \"src_bytes\", \"dst_bytes\"])"
   ]
  },
  {
   "cell_type": "code",
   "source": [
    "output.info()"
   ],
   "metadata": {
    "colab": {
     "base_uri": "https://localhost:8080/"
    },
    "id": "7BWNNP7RGUz5",
    "outputId": "8c6e2eab-ea78-4521-c584-08754a0a8974"
   },
   "execution_count": null,
   "outputs": []
  },
  {
   "cell_type": "code",
   "source": [
    "output.head()"
   ],
   "metadata": {
    "colab": {
     "base_uri": "https://localhost:8080/",
     "height": 238
    },
    "id": "mTdSOV9vm_U5",
    "outputId": "e3cce9d6-5b67-47e3-c1e5-2049f56bb5c2"
   },
   "execution_count": null,
   "outputs": []
  },
  {
   "cell_type": "code",
   "source": [
    "output.describe()"
   ],
   "metadata": {
    "colab": {
     "base_uri": "https://localhost:8080/",
     "height": 300
    },
    "id": "aPd0SamSGLhT",
    "outputId": "6e9bdbb1-082f-4bf6-b765-ebbcf2e1013d"
   },
   "execution_count": null,
   "outputs": []
  },
  {
   "cell_type": "code",
   "execution_count": null,
   "metadata": {
    "ExecuteTime": {
     "end_time": "2021-11-15T20:58:01.288048Z",
     "start_time": "2021-11-15T20:58:01.225726Z"
    },
    "colab": {
     "base_uri": "https://localhost:8080/",
     "height": 81
    },
    "id": "K5OjlI94C1mW",
    "outputId": "0f638926-faa1-4c39-f24c-66871a386d50"
   },
   "outputs": [],
   "source": [
    "output.corr()"
   ]
  },
  {
   "cell_type": "code",
   "execution_count": null,
   "metadata": {
    "ExecuteTime": {
     "end_time": "2021-11-08T16:06:20.578548Z",
     "start_time": "2021-11-08T16:06:20.138257Z"
    },
    "id": "PyZgrqWbC1mX"
   },
   "outputs": [],
   "source": [
    "output.to_csv('output.csv', encoding='utf-8', index=False)"
   ]
  },
  {
   "cell_type": "markdown",
   "metadata": {
    "id": "eTGX9QakC1mT"
   },
   "source": [
    "## **Part 6 - Conclusion**\n",
    "\n",
    "---\n",
    "\n",
    "*   According to the F_scores, the isolation forest is not the right solution.\n",
    "\n",
    "*   DBSCAN does fit this problem\n",
    "\n",
    "*   While \"src_bytes\" is the most important feature, utilizing all features helps detect outliers more effectively.\n",
    "\n",
    "*   Our guesses weren't accurate.\n",
    "\n",
    "*   There is a high correlation between the real label and the prediction, which means that the prediction is very close to the real label. \n",
    "\n"
   ]
  }
 ],
 "metadata": {
  "kernelspec": {
   "display_name": "Python 3.8.10 64-bit",
   "language": "python",
   "name": "python3"
  },
  "language_info": {
   "codemirror_mode": {
    "name": "ipython",
    "version": 3
   },
   "file_extension": ".py",
   "mimetype": "text/x-python",
   "name": "python",
   "nbconvert_exporter": "python",
   "pygments_lexer": "ipython3",
   "version": "3.8.10"
  },
  "toc": {
   "base_numbering": 1,
   "nav_menu": {},
   "number_sections": true,
   "sideBar": true,
   "skip_h1_title": false,
   "title_cell": "Table of Contents",
   "title_sidebar": "Contents",
   "toc_cell": false,
   "toc_position": {
    "height": "calc(100% - 180px)",
    "left": "10px",
    "top": "150px",
    "width": "165px"
   },
   "toc_section_display": true,
   "toc_window_display": false
  },
  "varInspector": {
   "cols": {
    "lenName": 16,
    "lenType": 16,
    "lenVar": 40
   },
   "kernels_config": {
    "python": {
     "delete_cmd_postfix": "",
     "delete_cmd_prefix": "del ",
     "library": "var_list.py",
     "varRefreshCmd": "print(var_dic_list())"
    },
    "r": {
     "delete_cmd_postfix": ") ",
     "delete_cmd_prefix": "rm(",
     "library": "var_list.r",
     "varRefreshCmd": "cat(var_dic_list()) "
    }
   },
   "position": {
    "height": "451.656px",
    "left": "518px",
    "right": "20px",
    "top": "127px",
    "width": "715px"
   },
   "types_to_exclude": [
    "module",
    "function",
    "builtin_function_or_method",
    "instance",
    "_Feature"
   ],
   "window_display": false
  },
  "vscode": {
   "interpreter": {
    "hash": "5b3ded1ccb95c1d9bd405e7b823d9e85424cde40fbb5985eb47e999ef50e15b4"
   }
  },
  "colab": {
   "provenance": [],
   "include_colab_link": true
  },
  "accelerator": "GPU",
  "gpuClass": "standard"
 },
 "nbformat": 4,
 "nbformat_minor": 0
}