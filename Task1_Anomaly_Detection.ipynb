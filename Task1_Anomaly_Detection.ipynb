{
 "cells": [
  {
   "cell_type": "markdown",
   "metadata": {
    "id": "view-in-github",
    "colab_type": "text"
   },
   "source": [
    "<a href=\"https://colab.research.google.com/github/VictoKu1/Anomaly_Detection/blob/master/Task1_Anomaly_Detection.ipynb\" target=\"_parent\"><img src=\"https://colab.research.google.com/assets/colab-badge.svg\" alt=\"Open In Colab\"/></a>"
   ]
  },
  {
   "cell_type": "markdown",
   "source": [
    "# **Anomaly Detection**\n",
    "\n",
    "---\n",
    "\n",
    "---\n",
    "\n",
    "##### ***Authors:*** *Moriya Bitton & Victor Kushnir*\n",
    "\n",
    "---\n",
    "\n",
    "\n",
    "\n",
    "---\n",
    "\n",
    "\n",
    "##### **[Github Link](https://github.com/VictoKu1/Anomaly_Detection)**"
   ],
   "metadata": {
    "id": "6pAuL8pAQPUJ"
   }
  },
  {
   "cell_type": "markdown",
   "metadata": {
    "id": "8NfcUUhuLXYx"
   },
   "source": [
    "## **Part 0 - Imports** \n",
    "\n",
    "---\n",
    "\n",
    "\n",
    "\n",
    "---\n",
    "\n"
   ]
  },
  {
   "cell_type": "code",
   "execution_count": 63,
   "metadata": {
    "ExecuteTime": {
     "end_time": "2021-11-15T20:11:06.746000Z",
     "start_time": "2021-11-15T20:11:03.013384Z"
    },
    "id": "PCBQ6yRyC1ln"
   },
   "outputs": [],
   "source": [
    "import io\n",
    "import numpy as np\n",
    "import pandas as pd\n",
    "import seaborn as sns\n",
    "from google.colab import files\n",
    "import matplotlib.pyplot as plt\n",
    "from sklearn.cluster import DBSCAN\n",
    "from sklearn.ensemble import IsolationForest\n",
    "from sklearn.metrics import classification_report, confusion_matrix, f1_score"
   ]
  },
  {
   "cell_type": "markdown",
   "metadata": {
    "id": "QNka-pbEC1le"
   },
   "source": [
    "## **Part 1 - Data** \n",
    "\n",
    "---\n",
    "\n",
    "\n",
    "\n",
    "---\n",
    "\n"
   ]
  },
  {
   "cell_type": "code",
   "source": [
    "data_to_load = files.upload()\n",
    "target_to_load = files.upload()"
   ],
   "metadata": {
    "colab": {
     "base_uri": "https://localhost:8080/",
     "height": 94
    },
    "id": "MC97gjoPbCOm",
    "outputId": "25baadda-c547-48c7-d7c2-73e736ad3bb2"
   },
   "execution_count": null,
   "outputs": [
    {
     "output_type": "display_data",
     "data": {
      "text/plain": [
       "<IPython.core.display.HTML object>"
      ],
      "text/html": [
       "\n",
       "     <input type=\"file\" id=\"files-11fa2660-4f0b-4c38-9804-d63765b18d1a\" name=\"files[]\" multiple disabled\n",
       "        style=\"border:none\" />\n",
       "     <output id=\"result-11fa2660-4f0b-4c38-9804-d63765b18d1a\">\n",
       "      Upload widget is only available when the cell has been executed in the\n",
       "      current browser session. Please rerun this cell to enable.\n",
       "      </output>\n",
       "      <script>// Copyright 2017 Google LLC\n",
       "//\n",
       "// Licensed under the Apache License, Version 2.0 (the \"License\");\n",
       "// you may not use this file except in compliance with the License.\n",
       "// You may obtain a copy of the License at\n",
       "//\n",
       "//      http://www.apache.org/licenses/LICENSE-2.0\n",
       "//\n",
       "// Unless required by applicable law or agreed to in writing, software\n",
       "// distributed under the License is distributed on an \"AS IS\" BASIS,\n",
       "// WITHOUT WARRANTIES OR CONDITIONS OF ANY KIND, either express or implied.\n",
       "// See the License for the specific language governing permissions and\n",
       "// limitations under the License.\n",
       "\n",
       "/**\n",
       " * @fileoverview Helpers for google.colab Python module.\n",
       " */\n",
       "(function(scope) {\n",
       "function span(text, styleAttributes = {}) {\n",
       "  const element = document.createElement('span');\n",
       "  element.textContent = text;\n",
       "  for (const key of Object.keys(styleAttributes)) {\n",
       "    element.style[key] = styleAttributes[key];\n",
       "  }\n",
       "  return element;\n",
       "}\n",
       "\n",
       "// Max number of bytes which will be uploaded at a time.\n",
       "const MAX_PAYLOAD_SIZE = 100 * 1024;\n",
       "\n",
       "function _uploadFiles(inputId, outputId) {\n",
       "  const steps = uploadFilesStep(inputId, outputId);\n",
       "  const outputElement = document.getElementById(outputId);\n",
       "  // Cache steps on the outputElement to make it available for the next call\n",
       "  // to uploadFilesContinue from Python.\n",
       "  outputElement.steps = steps;\n",
       "\n",
       "  return _uploadFilesContinue(outputId);\n",
       "}\n",
       "\n",
       "// This is roughly an async generator (not supported in the browser yet),\n",
       "// where there are multiple asynchronous steps and the Python side is going\n",
       "// to poll for completion of each step.\n",
       "// This uses a Promise to block the python side on completion of each step,\n",
       "// then passes the result of the previous step as the input to the next step.\n",
       "function _uploadFilesContinue(outputId) {\n",
       "  const outputElement = document.getElementById(outputId);\n",
       "  const steps = outputElement.steps;\n",
       "\n",
       "  const next = steps.next(outputElement.lastPromiseValue);\n",
       "  return Promise.resolve(next.value.promise).then((value) => {\n",
       "    // Cache the last promise value to make it available to the next\n",
       "    // step of the generator.\n",
       "    outputElement.lastPromiseValue = value;\n",
       "    return next.value.response;\n",
       "  });\n",
       "}\n",
       "\n",
       "/**\n",
       " * Generator function which is called between each async step of the upload\n",
       " * process.\n",
       " * @param {string} inputId Element ID of the input file picker element.\n",
       " * @param {string} outputId Element ID of the output display.\n",
       " * @return {!Iterable<!Object>} Iterable of next steps.\n",
       " */\n",
       "function* uploadFilesStep(inputId, outputId) {\n",
       "  const inputElement = document.getElementById(inputId);\n",
       "  inputElement.disabled = false;\n",
       "\n",
       "  const outputElement = document.getElementById(outputId);\n",
       "  outputElement.innerHTML = '';\n",
       "\n",
       "  const pickedPromise = new Promise((resolve) => {\n",
       "    inputElement.addEventListener('change', (e) => {\n",
       "      resolve(e.target.files);\n",
       "    });\n",
       "  });\n",
       "\n",
       "  const cancel = document.createElement('button');\n",
       "  inputElement.parentElement.appendChild(cancel);\n",
       "  cancel.textContent = 'Cancel upload';\n",
       "  const cancelPromise = new Promise((resolve) => {\n",
       "    cancel.onclick = () => {\n",
       "      resolve(null);\n",
       "    };\n",
       "  });\n",
       "\n",
       "  // Wait for the user to pick the files.\n",
       "  const files = yield {\n",
       "    promise: Promise.race([pickedPromise, cancelPromise]),\n",
       "    response: {\n",
       "      action: 'starting',\n",
       "    }\n",
       "  };\n",
       "\n",
       "  cancel.remove();\n",
       "\n",
       "  // Disable the input element since further picks are not allowed.\n",
       "  inputElement.disabled = true;\n",
       "\n",
       "  if (!files) {\n",
       "    return {\n",
       "      response: {\n",
       "        action: 'complete',\n",
       "      }\n",
       "    };\n",
       "  }\n",
       "\n",
       "  for (const file of files) {\n",
       "    const li = document.createElement('li');\n",
       "    li.append(span(file.name, {fontWeight: 'bold'}));\n",
       "    li.append(span(\n",
       "        `(${file.type || 'n/a'}) - ${file.size} bytes, ` +\n",
       "        `last modified: ${\n",
       "            file.lastModifiedDate ? file.lastModifiedDate.toLocaleDateString() :\n",
       "                                    'n/a'} - `));\n",
       "    const percent = span('0% done');\n",
       "    li.appendChild(percent);\n",
       "\n",
       "    outputElement.appendChild(li);\n",
       "\n",
       "    const fileDataPromise = new Promise((resolve) => {\n",
       "      const reader = new FileReader();\n",
       "      reader.onload = (e) => {\n",
       "        resolve(e.target.result);\n",
       "      };\n",
       "      reader.readAsArrayBuffer(file);\n",
       "    });\n",
       "    // Wait for the data to be ready.\n",
       "    let fileData = yield {\n",
       "      promise: fileDataPromise,\n",
       "      response: {\n",
       "        action: 'continue',\n",
       "      }\n",
       "    };\n",
       "\n",
       "    // Use a chunked sending to avoid message size limits. See b/62115660.\n",
       "    let position = 0;\n",
       "    do {\n",
       "      const length = Math.min(fileData.byteLength - position, MAX_PAYLOAD_SIZE);\n",
       "      const chunk = new Uint8Array(fileData, position, length);\n",
       "      position += length;\n",
       "\n",
       "      const base64 = btoa(String.fromCharCode.apply(null, chunk));\n",
       "      yield {\n",
       "        response: {\n",
       "          action: 'append',\n",
       "          file: file.name,\n",
       "          data: base64,\n",
       "        },\n",
       "      };\n",
       "\n",
       "      let percentDone = fileData.byteLength === 0 ?\n",
       "          100 :\n",
       "          Math.round((position / fileData.byteLength) * 100);\n",
       "      percent.textContent = `${percentDone}% done`;\n",
       "\n",
       "    } while (position < fileData.byteLength);\n",
       "  }\n",
       "\n",
       "  // All done.\n",
       "  yield {\n",
       "    response: {\n",
       "      action: 'complete',\n",
       "    }\n",
       "  };\n",
       "}\n",
       "\n",
       "scope.google = scope.google || {};\n",
       "scope.google.colab = scope.google.colab || {};\n",
       "scope.google.colab._files = {\n",
       "  _uploadFiles,\n",
       "  _uploadFilesContinue,\n",
       "};\n",
       "})(self);\n",
       "</script> "
      ]
     },
     "metadata": {}
    },
    {
     "output_type": "stream",
     "name": "stdout",
     "text": [
      "Saving conn_attack.csv to conn_attack (2).csv\n"
     ]
    },
    {
     "output_type": "display_data",
     "data": {
      "text/plain": [
       "<IPython.core.display.HTML object>"
      ],
      "text/html": [
       "\n",
       "     <input type=\"file\" id=\"files-7d84b863-25c8-45eb-8c53-567b1766d917\" name=\"files[]\" multiple disabled\n",
       "        style=\"border:none\" />\n",
       "     <output id=\"result-7d84b863-25c8-45eb-8c53-567b1766d917\">\n",
       "      Upload widget is only available when the cell has been executed in the\n",
       "      current browser session. Please rerun this cell to enable.\n",
       "      </output>\n",
       "      <script>// Copyright 2017 Google LLC\n",
       "//\n",
       "// Licensed under the Apache License, Version 2.0 (the \"License\");\n",
       "// you may not use this file except in compliance with the License.\n",
       "// You may obtain a copy of the License at\n",
       "//\n",
       "//      http://www.apache.org/licenses/LICENSE-2.0\n",
       "//\n",
       "// Unless required by applicable law or agreed to in writing, software\n",
       "// distributed under the License is distributed on an \"AS IS\" BASIS,\n",
       "// WITHOUT WARRANTIES OR CONDITIONS OF ANY KIND, either express or implied.\n",
       "// See the License for the specific language governing permissions and\n",
       "// limitations under the License.\n",
       "\n",
       "/**\n",
       " * @fileoverview Helpers for google.colab Python module.\n",
       " */\n",
       "(function(scope) {\n",
       "function span(text, styleAttributes = {}) {\n",
       "  const element = document.createElement('span');\n",
       "  element.textContent = text;\n",
       "  for (const key of Object.keys(styleAttributes)) {\n",
       "    element.style[key] = styleAttributes[key];\n",
       "  }\n",
       "  return element;\n",
       "}\n",
       "\n",
       "// Max number of bytes which will be uploaded at a time.\n",
       "const MAX_PAYLOAD_SIZE = 100 * 1024;\n",
       "\n",
       "function _uploadFiles(inputId, outputId) {\n",
       "  const steps = uploadFilesStep(inputId, outputId);\n",
       "  const outputElement = document.getElementById(outputId);\n",
       "  // Cache steps on the outputElement to make it available for the next call\n",
       "  // to uploadFilesContinue from Python.\n",
       "  outputElement.steps = steps;\n",
       "\n",
       "  return _uploadFilesContinue(outputId);\n",
       "}\n",
       "\n",
       "// This is roughly an async generator (not supported in the browser yet),\n",
       "// where there are multiple asynchronous steps and the Python side is going\n",
       "// to poll for completion of each step.\n",
       "// This uses a Promise to block the python side on completion of each step,\n",
       "// then passes the result of the previous step as the input to the next step.\n",
       "function _uploadFilesContinue(outputId) {\n",
       "  const outputElement = document.getElementById(outputId);\n",
       "  const steps = outputElement.steps;\n",
       "\n",
       "  const next = steps.next(outputElement.lastPromiseValue);\n",
       "  return Promise.resolve(next.value.promise).then((value) => {\n",
       "    // Cache the last promise value to make it available to the next\n",
       "    // step of the generator.\n",
       "    outputElement.lastPromiseValue = value;\n",
       "    return next.value.response;\n",
       "  });\n",
       "}\n",
       "\n",
       "/**\n",
       " * Generator function which is called between each async step of the upload\n",
       " * process.\n",
       " * @param {string} inputId Element ID of the input file picker element.\n",
       " * @param {string} outputId Element ID of the output display.\n",
       " * @return {!Iterable<!Object>} Iterable of next steps.\n",
       " */\n",
       "function* uploadFilesStep(inputId, outputId) {\n",
       "  const inputElement = document.getElementById(inputId);\n",
       "  inputElement.disabled = false;\n",
       "\n",
       "  const outputElement = document.getElementById(outputId);\n",
       "  outputElement.innerHTML = '';\n",
       "\n",
       "  const pickedPromise = new Promise((resolve) => {\n",
       "    inputElement.addEventListener('change', (e) => {\n",
       "      resolve(e.target.files);\n",
       "    });\n",
       "  });\n",
       "\n",
       "  const cancel = document.createElement('button');\n",
       "  inputElement.parentElement.appendChild(cancel);\n",
       "  cancel.textContent = 'Cancel upload';\n",
       "  const cancelPromise = new Promise((resolve) => {\n",
       "    cancel.onclick = () => {\n",
       "      resolve(null);\n",
       "    };\n",
       "  });\n",
       "\n",
       "  // Wait for the user to pick the files.\n",
       "  const files = yield {\n",
       "    promise: Promise.race([pickedPromise, cancelPromise]),\n",
       "    response: {\n",
       "      action: 'starting',\n",
       "    }\n",
       "  };\n",
       "\n",
       "  cancel.remove();\n",
       "\n",
       "  // Disable the input element since further picks are not allowed.\n",
       "  inputElement.disabled = true;\n",
       "\n",
       "  if (!files) {\n",
       "    return {\n",
       "      response: {\n",
       "        action: 'complete',\n",
       "      }\n",
       "    };\n",
       "  }\n",
       "\n",
       "  for (const file of files) {\n",
       "    const li = document.createElement('li');\n",
       "    li.append(span(file.name, {fontWeight: 'bold'}));\n",
       "    li.append(span(\n",
       "        `(${file.type || 'n/a'}) - ${file.size} bytes, ` +\n",
       "        `last modified: ${\n",
       "            file.lastModifiedDate ? file.lastModifiedDate.toLocaleDateString() :\n",
       "                                    'n/a'} - `));\n",
       "    const percent = span('0% done');\n",
       "    li.appendChild(percent);\n",
       "\n",
       "    outputElement.appendChild(li);\n",
       "\n",
       "    const fileDataPromise = new Promise((resolve) => {\n",
       "      const reader = new FileReader();\n",
       "      reader.onload = (e) => {\n",
       "        resolve(e.target.result);\n",
       "      };\n",
       "      reader.readAsArrayBuffer(file);\n",
       "    });\n",
       "    // Wait for the data to be ready.\n",
       "    let fileData = yield {\n",
       "      promise: fileDataPromise,\n",
       "      response: {\n",
       "        action: 'continue',\n",
       "      }\n",
       "    };\n",
       "\n",
       "    // Use a chunked sending to avoid message size limits. See b/62115660.\n",
       "    let position = 0;\n",
       "    do {\n",
       "      const length = Math.min(fileData.byteLength - position, MAX_PAYLOAD_SIZE);\n",
       "      const chunk = new Uint8Array(fileData, position, length);\n",
       "      position += length;\n",
       "\n",
       "      const base64 = btoa(String.fromCharCode.apply(null, chunk));\n",
       "      yield {\n",
       "        response: {\n",
       "          action: 'append',\n",
       "          file: file.name,\n",
       "          data: base64,\n",
       "        },\n",
       "      };\n",
       "\n",
       "      let percentDone = fileData.byteLength === 0 ?\n",
       "          100 :\n",
       "          Math.round((position / fileData.byteLength) * 100);\n",
       "      percent.textContent = `${percentDone}% done`;\n",
       "\n",
       "    } while (position < fileData.byteLength);\n",
       "  }\n",
       "\n",
       "  // All done.\n",
       "  yield {\n",
       "    response: {\n",
       "      action: 'complete',\n",
       "    }\n",
       "  };\n",
       "}\n",
       "\n",
       "scope.google = scope.google || {};\n",
       "scope.google.colab = scope.google.colab || {};\n",
       "scope.google.colab._files = {\n",
       "  _uploadFiles,\n",
       "  _uploadFilesContinue,\n",
       "};\n",
       "})(self);\n",
       "</script> "
      ]
     },
     "metadata": {}
    }
   ]
  },
  {
   "cell_type": "code",
   "source": [
    "# Reading the data and fixing columns names\n",
    "\n",
    "df = pd.read_csv(io.BytesIO(data_to_load['conn_attack.csv']), \n",
    "                 names=[\"record_id\", \"Duration_\", \"src_bytes\", \"dst_bytes\"], \n",
    "                 index_col='record_id')\n",
    "columns = df.columns\n",
    "\n",
    "target = pd.read_csv(io.BytesIO(target_to_load['conn_attack_anomaly_labels.csv']), \n",
    "                 names=[\"id\", \"label\"], \n",
    "                 index_col='id')"
   ],
   "metadata": {
    "id": "s5yNbvFFbiCD"
   },
   "execution_count": null,
   "outputs": []
  },
  {
   "cell_type": "code",
   "source": [
    "df.head()"
   ],
   "metadata": {
    "id": "ZwmiRgb1ZaGq"
   },
   "execution_count": null,
   "outputs": []
  },
  {
   "cell_type": "code",
   "source": [
    "target.head()"
   ],
   "metadata": {
    "id": "if3NHN02ce-u"
   },
   "execution_count": null,
   "outputs": []
  },
  {
   "cell_type": "markdown",
   "source": [
    "##### **Shape**"
   ],
   "metadata": {
    "id": "Rfwpcw54U8H8"
   }
  },
  {
   "cell_type": "code",
   "source": [
    "df.shape"
   ],
   "metadata": {
    "id": "88aGUQ9zU7kw"
   },
   "execution_count": null,
   "outputs": []
  },
  {
   "cell_type": "code",
   "source": [
    "columns.shape"
   ],
   "metadata": {
    "id": "jnsBehxEVCVS"
   },
   "execution_count": null,
   "outputs": []
  },
  {
   "cell_type": "code",
   "source": [
    "target.shape"
   ],
   "metadata": {
    "id": "jShkG00PVHZx"
   },
   "execution_count": null,
   "outputs": []
  },
  {
   "cell_type": "markdown",
   "metadata": {
    "ExecuteTime": {
     "end_time": "2021-11-07T13:35:40.662434Z",
     "start_time": "2021-11-07T13:33:17.893Z"
    },
    "id": "9r_v7W9JC1ls"
   },
   "source": [
    "##### **Analyzing the data frame** "
   ]
  },
  {
   "cell_type": "code",
   "execution_count": null,
   "metadata": {
    "ExecuteTime": {
     "end_time": "2021-11-15T20:11:07.014591Z",
     "start_time": "2021-11-15T20:11:06.985435Z"
    },
    "id": "2NYiVIu9C1lt"
   },
   "outputs": [],
   "source": [
    "df.info()"
   ]
  },
  {
   "cell_type": "code",
   "execution_count": null,
   "metadata": {
    "ExecuteTime": {
     "end_time": "2021-11-15T20:11:07.108445Z",
     "start_time": "2021-11-15T20:11:07.033591Z"
    },
    "id": "DfZP9MxVC1lv"
   },
   "outputs": [],
   "source": [
    "df.describe()"
   ]
  },
  {
   "cell_type": "markdown",
   "metadata": {
    "id": "WT9nmrncC1l1"
   },
   "source": [
    "##### **Data visualization**"
   ]
  },
  {
   "cell_type": "code",
   "source": [
    "fig, axes = plt.subplots(ncols=3, figsize=(18, 6))\n",
    "\n",
    "# Data distributed on the \"Duration_\" feature only\n",
    "sns.scatterplot(data=df.Duration_, ax=axes[0]).set(title=\"Duration_\")\n",
    "\n",
    "# Data distributed on the \"src_bytes\" feature only\n",
    "sns.scatterplot(data=df.src_bytes, ax=axes[1]).set(title=\"src_bytes\")\n",
    "\n",
    "# Data distributed on the \"dst_bytes\" feature only\n",
    "sns.scatterplot(data=df.dst_bytes, ax=axes[2]).set(title=\"dst_bytes\")"
   ],
   "metadata": {
    "id": "P6SF5yxx9lmD"
   },
   "execution_count": null,
   "outputs": []
  },
  {
   "cell_type": "markdown",
   "source": [
    "## **Part 2 - Possible labels to compare**\n",
    "\n",
    "---\n",
    "\n",
    "\n",
    "\n",
    "---\n",
    "\n"
   ],
   "metadata": {
    "id": "XcT1rXZPdSb3"
   }
  },
  {
   "cell_type": "markdown",
   "source": [
    "##### **Assumption**\n",
    "\n",
    "Essentially, we want to find ways to locate outliers without relying on any model to find the most appropriate model.\n",
    "\n",
    "\n",
    "I found that the clustering algorithm will probably work because the data is mostly clustered in the center and only a small amount is scattered far away from it. As a result, isolation forests won't work, but DB SCAN will."
   ],
   "metadata": {
    "id": "jSeGdnj0fcAH"
   }
  },
  {
   "cell_type": "code",
   "source": [
    "q_low_1 = df.Duration_.quantile(0.01)\n",
    "q_hi_1 = df.Duration_.quantile(0.99)\n",
    "\n",
    "q_low_2 = df.src_bytes.quantile(0.01)\n",
    "q_hi_2  = df.src_bytes.quantile(0.99)\n",
    "\n",
    "q_low_3 = df.dst_bytes.quantile(0.01)\n",
    "q_hi_3  = df.dst_bytes.quantile(0.99)\n",
    "\n",
    "# Creating the guess\n",
    "guess = np.zeros_like(df.src_bytes)\n",
    "\n",
    "guess[(df.Duration_>q_hi_1) | (df.Duration_<q_low_1) | \n",
    "      (df.src_bytes>q_hi_2) | (df.src_bytes<q_low_2) | \n",
    "      (df.dst_bytes>q_hi_3) | (df.dst_bytes<q_low_3)] = 1 "
   ],
   "metadata": {
    "id": "_y4_ZsCFNsoc"
   },
   "execution_count": null,
   "outputs": []
  },
  {
   "cell_type": "markdown",
   "metadata": {
    "id": "_3RlaaKOC1l6"
   },
   "source": [
    "## **Part 3 - Models**\n",
    "\n",
    "\n",
    "---\n",
    "\n",
    "\n",
    "\n",
    "---\n",
    "\n",
    "\n"
   ]
  },
  {
   "cell_type": "code",
   "execution_count": null,
   "metadata": {
    "ExecuteTime": {
     "end_time": "2021-11-15T20:11:07.156204Z",
     "start_time": "2021-11-15T20:11:07.126432Z"
    },
    "id": "DnyPiOqfC1lx"
   },
   "outputs": [],
   "source": [
    "# Finding important features\n",
    "\n",
    "df1 = df.drop(columns=columns[0])\n",
    "df2 = df.drop(columns=columns[1])\n",
    "df3 = df.drop(columns=columns[2])\n",
    "\n",
    "df4 = df.drop(columns=[columns[0], columns[1]])\n",
    "df5 = df.drop(columns=[columns[0], columns[2]])\n",
    "df6 = df.drop(columns=[columns[1], columns[2]])"
   ]
  },
  {
   "cell_type": "markdown",
   "metadata": {
    "id": "hbAk5VVQC1l7"
   },
   "source": [
    "### ***3.1 - Isolation Forest***\n"
   ]
  },
  {
   "cell_type": "code",
   "execution_count": null,
   "metadata": {
    "ExecuteTime": {
     "end_time": "2021-11-15T20:11:14.497939Z",
     "start_time": "2021-11-15T20:11:13.800851Z"
    },
    "id": "NRrQrI1OC1l8"
   },
   "outputs": [],
   "source": [
    "# Find if Isolation Forest might have good prediction\n",
    "\n",
    "def run_isf_models(max_f_, df):\n",
    "  isf_pred = []\n",
    "  for i in range(100, 1000, 100):\n",
    "      isf = IsolationForest(n_estimators=i, max_features=max_f_, n_jobs=-1)\n",
    "      isf_labels = pd.Series(isf.fit_predict(df))\n",
    "      isf_labels = isf_labels.map({1: 0, -1: 1})\n",
    "      isf_pred.append([i, f1_score(y_true=guess, y_pred=isf_labels)])\n",
    "\n",
    "  sns.lineplot(x=np.array(isf_pred)[:, 0], y=np.array(isf_pred)[:, 1])  "
   ]
  },
  {
   "cell_type": "code",
   "execution_count": null,
   "metadata": {
    "ExecuteTime": {
     "end_time": "2021-11-15T20:17:15.127041Z",
     "start_time": "2021-11-15T20:11:14.564081Z"
    },
    "id": "unQMZXjIC1l8"
   },
   "outputs": [],
   "source": [
    "# Running the model using all features\n",
    "\n",
    "run_isf_models(3, df)"
   ]
  },
  {
   "cell_type": "code",
   "execution_count": null,
   "metadata": {
    "ExecuteTime": {
     "end_time": "2021-11-15T20:22:53.500362Z",
     "start_time": "2021-11-15T20:17:15.377535Z"
    },
    "id": "zXS4VFBqC1l9"
   },
   "outputs": [],
   "source": [
    "# Running the model without \"Duration_\"\n",
    "\n",
    "run_isf_models(2, df1)"
   ]
  },
  {
   "cell_type": "code",
   "execution_count": null,
   "metadata": {
    "ExecuteTime": {
     "end_time": "2021-11-15T20:28:40.546538Z",
     "start_time": "2021-11-15T20:22:53.971365Z"
    },
    "id": "7uL6I62OC1l-"
   },
   "outputs": [],
   "source": [
    "# Running the model without \"src_bytes\"\n",
    "\n",
    "run_isf_models(2, df2)"
   ]
  },
  {
   "cell_type": "code",
   "execution_count": null,
   "metadata": {
    "ExecuteTime": {
     "end_time": "2021-11-15T20:34:00.910278Z",
     "start_time": "2021-11-15T20:28:40.943539Z"
    },
    "id": "lC9FV-STC1l_"
   },
   "outputs": [],
   "source": [
    "# Running the model without \"dst_bytes\"\n",
    "\n",
    "run_isf_models(2, df3)"
   ]
  },
  {
   "cell_type": "code",
   "execution_count": null,
   "metadata": {
    "ExecuteTime": {
     "end_time": "2021-11-15T20:39:29.819434Z",
     "start_time": "2021-11-15T20:34:01.193756Z"
    },
    "id": "PkJjnwbWC1mA"
   },
   "outputs": [],
   "source": [
    "# Running the model without \"Duration_\" , \"src_bytes\"\n",
    "\n",
    "run_isf_models(1, df4)"
   ]
  },
  {
   "cell_type": "code",
   "execution_count": null,
   "metadata": {
    "ExecuteTime": {
     "end_time": "2021-11-15T20:44:42.841757Z",
     "start_time": "2021-11-15T20:39:30.044343Z"
    },
    "id": "fAgnklISC1mB"
   },
   "outputs": [],
   "source": [
    "# Running the model without \"Duration_\" , \"dst_bytes\"\n",
    "\n",
    "run_isf_models(1, df5)"
   ]
  },
  {
   "cell_type": "code",
   "execution_count": null,
   "metadata": {
    "ExecuteTime": {
     "end_time": "2021-11-15T20:47:26.010408Z",
     "start_time": "2021-11-15T20:44:43.208063Z"
    },
    "id": "93SN4SLkC1mD"
   },
   "outputs": [],
   "source": [
    "# Running the model without \"src_bytes\" , \"dst_bytes\"\n",
    "\n",
    "run_isf_models(1, df6)"
   ]
  },
  {
   "cell_type": "markdown",
   "metadata": {
    "id": "PCI7dCHaC1mE"
   },
   "source": [
    "### ***3.2 - DBSCAN***"
   ]
  },
  {
   "cell_type": "code",
   "execution_count": null,
   "metadata": {
    "ExecuteTime": {
     "end_time": "2021-11-15T20:47:26.513369Z",
     "start_time": "2021-11-15T20:47:26.421876Z"
    },
    "id": "Hq6J2h6iC1mF"
   },
   "outputs": [],
   "source": [
    "# Mapping function to fit the correct labels\n",
    "\n",
    "def _map(x):\n",
    "  return 0 if x==-1 else 1\n",
    "  \n",
    "# Find if DBSCAN might have good prediction\n",
    "\n",
    "def run_dbs_models(df):\n",
    "  dbs_pred = []\n",
    "  for i in range(50, 300, 50):\n",
    "      dbs = DBSCAN(min_samples=i)\n",
    "      dbs_labels = pd.Series(dbs.fit_predict(df))\n",
    "      dbs_labels = dbs_labels.apply(lambda x: _map(x))\n",
    "      dbs_pred.append([i, f1_score(y_true=guess, y_pred=dbs_labels)])\n",
    "\n",
    "  sns.lineplot(x=np.array(dbs_pred)[:, 0], y=np.array(dbs_pred)[:, 1])"
   ]
  },
  {
   "cell_type": "code",
   "execution_count": null,
   "metadata": {
    "ExecuteTime": {
     "end_time": "2021-11-15T20:47:48.191259Z",
     "start_time": "2021-11-15T20:47:26.625503Z"
    },
    "id": "uDT2iYZPC1mG"
   },
   "outputs": [],
   "source": [
    "# Running the model using all features\n",
    "\n",
    "run_dbs_models(df)"
   ]
  },
  {
   "cell_type": "code",
   "execution_count": null,
   "metadata": {
    "ExecuteTime": {
     "end_time": "2021-11-15T20:47:58.704984Z",
     "start_time": "2021-11-15T20:47:48.456311Z"
    },
    "id": "G5jgJ16CC1mG"
   },
   "outputs": [],
   "source": [
    "# Running the model without \"Duration_\"\n",
    "\n",
    "run_dbs_models(df1)"
   ]
  },
  {
   "cell_type": "code",
   "execution_count": null,
   "metadata": {
    "ExecuteTime": {
     "end_time": "2021-11-15T20:49:29.249262Z",
     "start_time": "2021-11-15T20:47:58.994988Z"
    },
    "id": "nghRLDOtC1mH"
   },
   "outputs": [],
   "source": [
    "# Running the model without \"src_bytes\"\n",
    "\n",
    "run_dbs_models(df2)"
   ]
  },
  {
   "cell_type": "code",
   "execution_count": null,
   "metadata": {
    "ExecuteTime": {
     "end_time": "2021-11-15T20:52:06.322902Z",
     "start_time": "2021-11-15T20:49:29.582263Z"
    },
    "id": "gcduWxgKC1mI"
   },
   "outputs": [],
   "source": [
    "# Running the model without \"dst_bytes\"\n",
    "\n",
    "run_dbs_models(df3)"
   ]
  },
  {
   "cell_type": "code",
   "execution_count": null,
   "metadata": {
    "ExecuteTime": {
     "end_time": "2021-11-15T20:52:17.979071Z",
     "start_time": "2021-11-15T20:52:07.142597Z"
    },
    "id": "HedqsEQSC1mJ"
   },
   "outputs": [],
   "source": [
    "# Running the model without \"Duration_\" , \"src_bytes\"\n",
    "\n",
    "run_dbs_models(df4)"
   ]
  },
  {
   "cell_type": "code",
   "execution_count": null,
   "metadata": {
    "ExecuteTime": {
     "end_time": "2021-11-15T20:52:29.632587Z",
     "start_time": "2021-11-15T20:52:18.296070Z"
    },
    "id": "H2CCedhVC1mK"
   },
   "outputs": [],
   "source": [
    "# Running the model without \"Duration_\" , \"dst_bytes\"\n",
    "\n",
    "run_dbs_models(df5)"
   ]
  },
  {
   "cell_type": "code",
   "execution_count": null,
   "metadata": {
    "ExecuteTime": {
     "end_time": "2021-11-15T20:52:29.930744Z",
     "start_time": "2021-11-15T20:52:29.917738Z"
    },
    "id": "OIgazTqsC1mL"
   },
   "outputs": [],
   "source": [
    "# Running the model without \"src_bytes\" , \"dst_bytes\"\n",
    "\n",
    "# run_dbs_models(df6) --> Memory error!"
   ]
  },
  {
   "cell_type": "markdown",
   "source": [
    "## **Part 4 - Evaluation & Comparison**\n",
    "\n",
    "---\n",
    "\n",
    "---\n",
    "\n"
   ],
   "metadata": {
    "id": "3YXIJmhJt8NI"
   }
  },
  {
   "cell_type": "code",
   "execution_count": null,
   "metadata": {
    "ExecuteTime": {
     "end_time": "2021-11-15T20:52:32.604453Z",
     "start_time": "2021-11-15T20:52:29.994737Z"
    },
    "id": "rnFPRpi2C1mM"
   },
   "outputs": [],
   "source": [
    "dbs = DBSCAN(min_samples=150, n_jobs=-1)\n",
    "dbs_labels = pd.Series(dbs.fit_predict(df)).apply(lambda x: _map(x))"
   ]
  },
  {
   "cell_type": "markdown",
   "metadata": {
    "id": "46NLdVaFC1mM"
   },
   "source": [
    "##### ***y_guess & y_dbs***"
   ]
  },
  {
   "cell_type": "code",
   "source": [
    "confusion_matrix(y_true=guess, y_pred=dbs_labels)"
   ],
   "metadata": {
    "id": "Wf1yP_N7mE7-"
   },
   "execution_count": null,
   "outputs": []
  },
  {
   "cell_type": "code",
   "execution_count": null,
   "metadata": {
    "ExecuteTime": {
     "end_time": "2021-11-15T20:52:33.361990Z",
     "start_time": "2021-11-15T20:52:33.044933Z"
    },
    "id": "ippPWhgBC1mN"
   },
   "outputs": [],
   "source": [
    "print(classification_report(y_true=guess, y_pred=dbs_labels))"
   ]
  },
  {
   "cell_type": "markdown",
   "metadata": {
    "id": "JQisTiTkC1mO"
   },
   "source": [
    "##### ***y_guess & y_true***"
   ]
  },
  {
   "cell_type": "code",
   "source": [
    "confusion_matrix(y_true=guess, y_pred=target.label)"
   ],
   "metadata": {
    "id": "thkc2HpsmJqv"
   },
   "execution_count": null,
   "outputs": []
  },
  {
   "cell_type": "code",
   "execution_count": null,
   "metadata": {
    "ExecuteTime": {
     "end_time": "2021-11-15T20:52:33.997343Z",
     "start_time": "2021-11-15T20:52:33.807293Z"
    },
    "id": "fhSoPwUWC1mO"
   },
   "outputs": [],
   "source": [
    "print(classification_report(y_true=guess, y_pred=target.label))"
   ]
  },
  {
   "cell_type": "markdown",
   "metadata": {
    "id": "NyVk-V2cC1mP"
   },
   "source": [
    "##### ***y_dbs & y_true***"
   ]
  },
  {
   "cell_type": "code",
   "execution_count": null,
   "metadata": {
    "ExecuteTime": {
     "end_time": "2021-11-15T20:52:34.662508Z",
     "start_time": "2021-11-15T20:52:34.491254Z"
    },
    "id": "YbGEmaDIC1mQ"
   },
   "outputs": [],
   "source": [
    "confusion_matrix(y_true=dbs_labels, y_pred=target.label)"
   ]
  },
  {
   "cell_type": "code",
   "execution_count": null,
   "metadata": {
    "ExecuteTime": {
     "end_time": "2021-11-15T20:52:35.059455Z",
     "start_time": "2021-11-15T20:52:34.726451Z"
    },
    "id": "tNphBCJvC1mQ"
   },
   "outputs": [],
   "source": [
    "print(classification_report(y_true=dbs_labels, y_pred=target.label))"
   ]
  },
  {
   "cell_type": "markdown",
   "metadata": {
    "id": "SpbZUZOuC1mV"
   },
   "source": [
    "## **Part 5 - Export the output**\n",
    "\n",
    "---\n",
    "\n",
    "---"
   ]
  },
  {
   "cell_type": "code",
   "execution_count": null,
   "metadata": {
    "ExecuteTime": {
     "end_time": "2021-11-15T20:57:58.795856Z",
     "start_time": "2021-11-15T20:57:58.720732Z"
    },
    "id": "waLGMwfdC1mW"
   },
   "outputs": [],
   "source": [
    "DBS_labels = DBS_labels.set_axis(target.index)\n",
    "df[\"is_anomaly\"] = DBS_labels\n",
    "\n",
    "output = df.drop(columns=[\"Duration_\", \"src_bytes\", \"dst_bytes\"])"
   ]
  },
  {
   "cell_type": "code",
   "source": [
    "output.info()"
   ],
   "metadata": {
    "id": "7BWNNP7RGUz5"
   },
   "execution_count": null,
   "outputs": []
  },
  {
   "cell_type": "code",
   "source": [
    "output.head()"
   ],
   "metadata": {
    "id": "mTdSOV9vm_U5"
   },
   "execution_count": null,
   "outputs": []
  },
  {
   "cell_type": "code",
   "source": [
    "output.describe()"
   ],
   "metadata": {
    "id": "aPd0SamSGLhT"
   },
   "execution_count": null,
   "outputs": []
  },
  {
   "cell_type": "code",
   "execution_count": null,
   "metadata": {
    "ExecuteTime": {
     "end_time": "2021-11-15T20:58:01.288048Z",
     "start_time": "2021-11-15T20:58:01.225726Z"
    },
    "id": "K5OjlI94C1mW"
   },
   "outputs": [],
   "source": [
    "output.corr()"
   ]
  },
  {
   "cell_type": "code",
   "execution_count": null,
   "metadata": {
    "ExecuteTime": {
     "end_time": "2021-11-08T16:06:20.578548Z",
     "start_time": "2021-11-08T16:06:20.138257Z"
    },
    "id": "PyZgrqWbC1mX"
   },
   "outputs": [],
   "source": [
    "output.to_csv('output.csv', encoding='utf-8', index=False)"
   ]
  },
  {
   "cell_type": "markdown",
   "metadata": {
    "id": "eTGX9QakC1mT"
   },
   "source": [
    "## **Part 6 - Conclusion**\n",
    "\n",
    "---\n",
    "\n",
    "---\n",
    "\n",
    "\n",
    "\n",
    "*   According to the F_scores, the isolation forest is not the right solution.\n",
    "\n",
    "*   DBSCAN does fit this problem\n",
    "\n",
    "*   While \"src_bytes\" is the most important feature, utilizing all features helps detect outliers more effectively.\n",
    "\n",
    "*   Our guesses weren't accurate.\n",
    "\n",
    "*   There is a high correlation between the real label and the prediction, which means that the prediction is very close to the real label. \n",
    "\n"
   ]
  },
  {
   "cell_type": "markdown",
   "source": [
    "# **The End**\n",
    "\n",
    "---\n"
   ],
   "metadata": {
    "id": "gNPM_vKAOEeS"
   }
  }
 ],
 "metadata": {
  "kernelspec": {
   "display_name": "Python 3.8.10 64-bit",
   "language": "python",
   "name": "python3"
  },
  "language_info": {
   "codemirror_mode": {
    "name": "ipython",
    "version": 3
   },
   "file_extension": ".py",
   "mimetype": "text/x-python",
   "name": "python",
   "nbconvert_exporter": "python",
   "pygments_lexer": "ipython3",
   "version": "3.8.10"
  },
  "toc": {
   "base_numbering": 1,
   "nav_menu": {},
   "number_sections": true,
   "sideBar": true,
   "skip_h1_title": false,
   "title_cell": "Table of Contents",
   "title_sidebar": "Contents",
   "toc_cell": false,
   "toc_position": {
    "height": "calc(100% - 180px)",
    "left": "10px",
    "top": "150px",
    "width": "165px"
   },
   "toc_section_display": true,
   "toc_window_display": false
  },
  "varInspector": {
   "cols": {
    "lenName": 16,
    "lenType": 16,
    "lenVar": 40
   },
   "kernels_config": {
    "python": {
     "delete_cmd_postfix": "",
     "delete_cmd_prefix": "del ",
     "library": "var_list.py",
     "varRefreshCmd": "print(var_dic_list())"
    },
    "r": {
     "delete_cmd_postfix": ") ",
     "delete_cmd_prefix": "rm(",
     "library": "var_list.r",
     "varRefreshCmd": "cat(var_dic_list()) "
    }
   },
   "position": {
    "height": "451.656px",
    "left": "518px",
    "right": "20px",
    "top": "127px",
    "width": "715px"
   },
   "types_to_exclude": [
    "module",
    "function",
    "builtin_function_or_method",
    "instance",
    "_Feature"
   ],
   "window_display": false
  },
  "vscode": {
   "interpreter": {
    "hash": "5b3ded1ccb95c1d9bd405e7b823d9e85424cde40fbb5985eb47e999ef50e15b4"
   }
  },
  "colab": {
   "provenance": [],
   "include_colab_link": true
  },
  "accelerator": "GPU",
  "gpuClass": "standard"
 },
 "nbformat": 4,
 "nbformat_minor": 0
}